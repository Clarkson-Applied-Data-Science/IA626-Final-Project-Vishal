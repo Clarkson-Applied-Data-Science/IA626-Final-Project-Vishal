{
 "cells": [
  {
   "cell_type": "code",
   "execution_count": 1,
   "metadata": {},
   "outputs": [],
   "source": [
    "from flask import Flask, render_template\n",
    "import pymysql\n",
    "import pandas as pd\n",
    "import folium\n",
    "from folium.plugins import MarkerCluster\n",
    "import matplotlib.pyplot as plt\n",
    "import io\n",
    "import base64\n",
    "\n",
    "app = Flask(__name__)\n",
    "\n",
    "# MySQL connection\n",
    "def get_connection():\n",
    "    return pymysql.connect(\n",
    "        host=\"mysql.clarksonmsda.org\",\n",
    "        user=\"singarv\",\n",
    "        password=\"Clarkson23@#\",\n",
    "        database=\"singarv_accident\",\n",
    "        autocommit=True,\n",
    "        cursorclass=pymysql.cursors.DictCursor\n",
    "    )"
   ]
  },
  {
   "cell_type": "code",
   "execution_count": 2,
   "metadata": {},
   "outputs": [],
   "source": [
    "@app.route('/map')\n",
    "def accident_heatmap_with_tooltips():\n",
    "    connection = get_connection()\n",
    "    data = pd.read_sql(\"\"\"\n",
    "        SELECT Latitude, Longitude, Date, Weather_Conditions, Light_Conditions, Accident_Severity\n",
    "        FROM Accidents\n",
    "        WHERE Latitude != 0 AND Longitude != 0\n",
    "    \"\"\", con=connection)\n",
    "    connection.close()\n",
    "\n",
    "    # Create a Folium map centered over the UK\n",
    "    accident_map = folium.Map(location=[54.5260, -2.6189], zoom_start=6)\n",
    "\n",
    "    # Add HeatMap layer (without tooltips)\n",
    "    heat_data = [\n",
    "        [row['Latitude'], row['Longitude'], 4 - row['Accident_Severity']]\n",
    "        for _, row in data.iterrows()\n",
    "    ]  # Weight: Fatal=3, Serious=2, Slight=1\n",
    "    HeatMap(heat_data, radius=10, blur=15, max_zoom=10).add_to(accident_map)\n",
    "\n",
    "    # Add tooltips for individual points\n",
    "    for _, row in data.iterrows():\n",
    "        tooltip = (\n",
    "            f\"<b>Date:</b> {row['Date']}<br>\"\n",
    "            f\"<b>Weather:</b> {row['Weather_Conditions']}<br>\"\n",
    "            f\"<b>Light Conditions:</b> {row['Light_Conditions']}<br>\"\n",
    "            f\"<b>Severity:</b> {'Fatal' if row['Accident_Severity'] == 1 else 'Serious' if row['Accident_Severity'] == 2 else 'Slight'}\"\n",
    "        )\n",
    "        folium.Marker(\n",
    "            location=[row['Latitude'], row['Longitude']],\n",
    "            popup=tooltip,\n",
    "            icon=folium.Icon(color='red' if row['Accident_Severity'] == 1 else 'orange' if row['Accident_Severity'] == 2 else 'green')\n",
    "        ).add_to(accident_map)\n",
    "\n",
    "    # Save the map to the template folder\n",
    "    accident_map.save('templates/map.html')\n",
    "    return render_template('map.html')"
   ]
  },
  {
   "cell_type": "code",
   "execution_count": 3,
   "metadata": {},
   "outputs": [],
   "source": [
    "@app.route('/')\n",
    "def index():\n",
    "    return render_template('index.html')\n",
    "\n",
    "@app.route('/charts')\n",
    "def charts():\n",
    "    connection = get_connection()\n",
    "    data = pd.read_sql(\"\"\"\n",
    "        SELECT Accident_Severity, COUNT(*) AS Count\n",
    "        FROM Accidents\n",
    "        GROUP BY Accident_Severity\n",
    "    \"\"\", con=connection)\n",
    "    connection.close()\n",
    "\n",
    "    # Create bar chart\n",
    "    import matplotlib.pyplot as plt\n",
    "    import io\n",
    "    import base64\n",
    "\n",
    "    plt.figure(figsize=(8, 5))\n",
    "    severity_labels = ['Fatal', 'Serious', 'Slight']\n",
    "    plt.bar(severity_labels, data['Count'], color=['red', 'orange', 'green'])\n",
    "    plt.xlabel('Accident Severity')\n",
    "    plt.ylabel('Number of Accidents')\n",
    "    plt.title('Accident Severity Distribution')\n",
    "\n",
    "    # Save the plot to a PNG image\n",
    "    img = io.BytesIO()\n",
    "    plt.savefig(img, format='png')\n",
    "    img.seek(0)\n",
    "    plot_url = base64.b64encode(img.getvalue()).decode()\n",
    "\n",
    "    return render_template('charts.html', plot_url=plot_url)"
   ]
  },
  {
   "cell_type": "code",
   "execution_count": 5,
   "metadata": {},
   "outputs": [
    {
     "name": "stdout",
     "output_type": "stream",
     "text": [
      " * Serving Flask app '__main__'\n",
      " * Debug mode: on\n"
     ]
    },
    {
     "name": "stderr",
     "output_type": "stream",
     "text": [
      "WARNING: This is a development server. Do not use it in a production deployment. Use a production WSGI server instead.\n",
      " * Running on http://127.0.0.1:5000\n",
      "Press CTRL+C to quit\n",
      " * Restarting with stat\n"
     ]
    },
    {
     "ename": "SystemExit",
     "evalue": "1",
     "output_type": "error",
     "traceback": [
      "An exception has occurred, use %tb to see the full traceback.\n",
      "\u001b[1;31mSystemExit\u001b[0m\u001b[1;31m:\u001b[0m 1\n"
     ]
    }
   ],
   "source": [
    "if __name__ == '__main__':\n",
    "    app.run(debug=True)"
   ]
  }
 ],
 "metadata": {
  "kernelspec": {
   "display_name": "Python 3",
   "language": "python",
   "name": "python3"
  },
  "language_info": {
   "codemirror_mode": {
    "name": "ipython",
    "version": 3
   },
   "file_extension": ".py",
   "mimetype": "text/x-python",
   "name": "python",
   "nbconvert_exporter": "python",
   "pygments_lexer": "ipython3",
   "version": "3.12.2"
  }
 },
 "nbformat": 4,
 "nbformat_minor": 2
}
